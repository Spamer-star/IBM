{
 "cells": [
  {
   "cell_type": "markdown",
   "id": "b34c24bc-e2c4-464c-8e8a-cbd9d61ee267",
   "metadata": {},
   "source": [
    "# Data Science And Ecosystem"
   ]
  },
  {
   "cell_type": "markdown",
   "id": "af66ac33-c33d-4dee-8588-9b2d23324b44",
   "metadata": {},
   "source": [
    "This will be an introduction to DSL."
   ]
  },
  {
   "cell_type": "markdown",
   "id": "a5c1bcad-a070-40f3-8c98-87e17c2333b2",
   "metadata": {
    "tags": []
   },
   "source": [
    "Some data science languages are:\n",
    "1. Python\n",
    "2. SQL\n",
    "3. C++"
   ]
  },
  {
   "cell_type": "markdown",
   "id": "3a186ccb-1739-4056-85dc-c6a2a514f2b5",
   "metadata": {
    "tags": []
   },
   "source": [
    "Some data science Libraries are:\n",
    "1. Pandas\n",
    "2. PyTorch\n",
    "3. NumPy"
   ]
  },
  {
   "cell_type": "markdown",
   "id": "9bb9b173-b1fa-49e1-8273-126218ec9d1f",
   "metadata": {
    "tags": []
   },
   "source": [
    "Data Science Tools\n",
    "\n",
    "| Tool           | Purpose                                |\n",
    "|----------------|----------------------------------------|\n",
    "| Python         | General-purpose programming language   |\n",
    "| R              | Statistical computing and graphics     |\n",
    "| JupyterLab     | Interactive computing environment      |\n",
    "| TensorFlow     | Deep learning and machine learning     |\n",
    "| scikit-learn   | Machine learning library               |\n",
    "| Pandas         | Data manipulation and analysis         |\n",
    "| Matplotlib     | Data visualization                      |\n",
    "| SQL            | Database querying and management       |"
   ]
  },
  {
   "cell_type": "markdown",
   "id": "36204431-a102-41b5-b5e9-07a6b2502e43",
   "metadata": {
    "tags": []
   },
   "source": [
    "Arithmetic Expression Examples\n",
    "\n",
    "\n",
    "- Addition: `a + b`\n",
    "- Subtraction: `a - b`\n",
    "- Multiplication: `a * b`\n",
    "- Division: `a / b`"
   ]
  },
  {
   "cell_type": "code",
   "execution_count": 11,
   "id": "d1549246-492b-4841-95d3-f81cc6c81c04",
   "metadata": {
    "tags": []
   },
   "outputs": [
    {
     "data": {
      "text/plain": [
       "(50, 15)"
      ]
     },
     "execution_count": 11,
     "metadata": {},
     "output_type": "execute_result"
    }
   ],
   "source": [
    "# Multiplying and Adding Numbers\n",
    "\n",
    "# Define the numbers\n",
    "number1 = 5\n",
    "number2 = 10\n",
    "\n",
    "# Multiply the numbers\n",
    "product = number1 * number2\n",
    "\n",
    "# Add the numbers\n",
    "sum_result = number1 + number2\n",
    "\n",
    "product, sum_result"
   ]
  },
  {
   "cell_type": "code",
   "execution_count": 12,
   "id": "212a7aac-9014-41a2-882c-99c76cc9cd95",
   "metadata": {
    "tags": []
   },
   "outputs": [
    {
     "data": {
      "text/plain": [
       "2.0"
      ]
     },
     "execution_count": 12,
     "metadata": {},
     "output_type": "execute_result"
    }
   ],
   "source": [
    "# Convert Minutes to Hours\n",
    "\n",
    "# Define the number of minutes\n",
    "minutes = 120\n",
    "\n",
    "# Convert to hours\n",
    "hours = minutes / 60\n",
    "\n",
    "hours"
   ]
  },
  {
   "cell_type": "markdown",
   "id": "8f6edd90-1c0f-43e9-8330-904cc11d9eca",
   "metadata": {
    "tags": []
   },
   "source": [
    "Objectives\n",
    "\n",
    "1. Understand how to create and format markdown cells.\n",
    "2. Learn to perform basic arithmetic operations using code cells.\n",
    "3. Develop skills to convert units using simple Python code.\n",
    "4. Familiarize with adding and modifying cells."
   ]
  },
  {
   "cell_type": "markdown",
   "id": "c10e8a81-7ce9-4609-92d5-2ebfebe342de",
   "metadata": {
    "tags": []
   },
   "source": [
    "Author\n",
    "\n",
    "This notebook was created by \n",
    "\n",
    "Abdullah."
   ]
  }
 ],
 "metadata": {
  "kernelspec": {
   "display_name": "Python",
   "language": "python",
   "name": "conda-env-python-py"
  },
  "language_info": {
   "codemirror_mode": {
    "name": "ipython",
    "version": 3
   },
   "file_extension": ".py",
   "mimetype": "text/x-python",
   "name": "python",
   "nbconvert_exporter": "python",
   "pygments_lexer": "ipython3",
   "version": "3.7.12"
  }
 },
 "nbformat": 4,
 "nbformat_minor": 5
}
